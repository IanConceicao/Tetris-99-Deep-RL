{
 "cells": [
  {
   "cell_type": "markdown",
   "metadata": {},
   "source": [
    "# Notebook notes"
   ]
  },
  {
   "cell_type": "markdown",
   "metadata": {},
   "source": [
    "This notebook is for testing training"
   ]
  },
  {
   "cell_type": "markdown",
   "metadata": {},
   "source": [
    "# Import libs"
   ]
  },
  {
   "cell_type": "markdown",
   "metadata": {},
   "source": [
    "**setup autoreload**"
   ]
  },
  {
   "cell_type": "code",
   "execution_count": 1,
   "metadata": {},
   "outputs": [],
   "source": [
    "%load_ext autoreload\n",
    "%autoreload 2"
   ]
  },
  {
   "cell_type": "markdown",
   "metadata": {},
   "source": [
    "**configure system path**"
   ]
  },
  {
   "cell_type": "code",
   "execution_count": 2,
   "metadata": {},
   "outputs": [],
   "source": [
    "import os\n",
    "import sys\n",
    "\n",
    "# list directories where packages are stored\n",
    "# note that the parent directory of te repo is added automatically\n",
    "GYM_FOLDER = \"gym-t99\"\n",
    "\n",
    "# get this notebook's current working directory\n",
    "nb_cwd = os.getcwd()\n",
    "# get name of its parent directory\n",
    "nb_parent = os.path.dirname(nb_cwd)\n",
    "# add packages to path\n",
    "sys.path.insert(len(sys.path), nb_parent)\n",
    "sys.path.insert(len(sys.path), os.path.join(nb_parent, GYM_FOLDER))"
   ]
  },
  {
   "cell_type": "markdown",
   "metadata": {},
   "source": [
    "**import custom packages**\n",
    "\n",
    "Use this code if you have not yet loaded gym_t99"
   ]
  },
  {
   "cell_type": "code",
   "execution_count": 4,
   "metadata": {},
   "outputs": [],
   "source": [
    "import gym\n",
    "registered = gym.envs.registration.registry.env_specs.copy()\n",
    "\n",
    "import gym_t99\n",
    "import t_net"
   ]
  },
  {
   "cell_type": "markdown",
   "metadata": {},
   "source": [
    "**import custom packages**\n",
    "\n",
    "Use this code if you have already loaded gym_t99, but now you introduced changes and want to re-load it again"
   ]
  },
  {
   "cell_type": "code",
   "execution_count": 7,
   "metadata": {},
   "outputs": [
    {
     "name": "stdout",
     "output_type": "stream",
     "text": [
      "Remove basic-v0 from registry\n",
      "Remove t99-v0 from registry\n"
     ]
    },
    {
     "data": {
      "text/plain": [
       "<module 'gym_t99' from '/Users/ianconceicao/239AS_T99_RL_Agent/gym-t99/gym_t99/__init__.py'>"
      ]
     },
     "execution_count": 7,
     "metadata": {},
     "output_type": "execute_result"
    }
   ],
   "source": [
    "import imp\n",
    "\n",
    "# this code removes environment from gym's registry\n",
    "env_dict = gym.envs.registration.registry.env_specs.copy()\n",
    "for env in env_dict:\n",
    "    if env not in registered:\n",
    "        print(\"Remove {} from registry\".format(env))\n",
    "        del gym.envs.registration.registry.env_specs[env]\n",
    "\n",
    "imp.reload(gym_t99)"
   ]
  },
  {
   "cell_type": "markdown",
   "metadata": {},
   "source": [
    "**import out-of-the-box packages**"
   ]
  },
  {
   "cell_type": "code",
   "execution_count": 4,
   "metadata": {},
   "outputs": [],
   "source": [
    "# import matplotlib\n",
    "import matplotlib as plt\n",
    "# configure matplotlib\n",
    "%matplotlib inline"
   ]
  },
  {
   "cell_type": "code",
   "execution_count": 5,
   "metadata": {},
   "outputs": [],
   "source": [
    "import numpy as np\n",
    "from copy import deepcopy"
   ]
  },
  {
   "cell_type": "code",
   "execution_count": 6,
   "metadata": {},
   "outputs": [
    {
     "name": "stdout",
     "output_type": "stream",
     "text": [
      "cpu\n"
     ]
    }
   ],
   "source": [
    "# import torch\n",
    "import torch\n",
    "from torch import nn\n",
    "\n",
    "# configure torch\n",
    "device = torch.device(\"cuda\" if torch.cuda.is_available() else \"cpu\")\n",
    "print(device)"
   ]
  },
  {
   "cell_type": "markdown",
   "metadata": {},
   "source": [
    "# Workspace"
   ]
  },
  {
   "cell_type": "code",
   "execution_count": 7,
   "metadata": {},
   "outputs": [],
   "source": [
    "# a simple random agent to play aginst and test\n",
    "class RandomEnemy:\n",
    "    def __init__(self):\n",
    "        self.action_space = [1, 2, 3, 4, 5, 6, 7, 8, 9]\n",
    "    \n",
    "    # this interface needs to be supported for any agent\n",
    "    def action(self, state):\n",
    "        return np.random.choice(self.action_space)"
   ]
  },
  {
   "cell_type": "code",
   "execution_count": 6,
   "metadata": {},
   "outputs": [],
   "source": [
    "# a simple random agent to play aginst and test\n",
    "class RandomEnemySC:    \n",
    "    # this interface needs to be supported for any agent\n",
    "    def action(self, observation):\n",
    "        return np.random.choice(observation)"
   ]
  },
  {
   "cell_type": "code",
   "execution_count": 7,
   "metadata": {},
   "outputs": [],
   "source": [
    "custom_gym = gym.make('gym_t99:t99sc-v0', num_players = 2, enemy=RandomEnemySC())"
   ]
  },
  {
   "cell_type": "code",
   "execution_count": null,
   "metadata": {},
   "outputs": [],
   "source": [
    "#Randomly fill the boards, used to test graphics\n",
    "from random import randrange\n",
    "custom_gym = gym.make('gym_t99:t99-v0', num_players = 100, enemy=RandomEnemy())\n",
    "for player in custom_gym.state.players:\n",
    "    board = player.board\n",
    "    if 0 == randrange(20):\n",
    "        player.place = randrange(100)\n",
    "    for i in range(board.shape[0]):\n",
    "        for j in range(board.shape[1]):\n",
    "            if board[i][j] == 10:\n",
    "                continue\n",
    "            odds = 10\n",
    "            if i <= 20:\n",
    "                odds = 20\n",
    "            \n",
    "            if randrange(odds) == 0:\n",
    "                board[i][j] = randrange(8)"
   ]
  },
  {
   "cell_type": "code",
   "execution_count": 20,
   "metadata": {},
   "outputs": [
    {
     "name": "stdout",
     "output_type": "stream",
     "text": [
      "[[10 10 10  0  0  0  0  0  0  0  0  0  0 10 10 10]\n",
      " [10 10 10  0  0  0  0  0  1  0  0  0  0 10 10 10]\n",
      " [10 10 10  0  0  0  0  0  1  0  0  0  0 10 10 10]\n",
      " [10 10 10  0  0  0  0  0  1  0  0  0  0 10 10 10]\n",
      " [10 10 10  0  0  0  0  0  1  0  0  0  0 10 10 10]\n",
      " [10 10 10  0  0  0  0  0  0  0  0  0  0 10 10 10]\n",
      " [10 10 10  0  0  0  0  0  0  0  0  0  0 10 10 10]\n",
      " [10 10 10  0  0  0  0  0  0  0  0  0  0 10 10 10]\n",
      " [10 10 10  0  0  0  0  0  0  0  0  0  0 10 10 10]\n",
      " [10 10 10  0  0  0  0  0  0  0  0  0  0 10 10 10]\n",
      " [10 10 10  0  0  0  0  0  0  0  0  0  0 10 10 10]\n",
      " [10 10 10  0  0  0  0  0  0  0  0  0  0 10 10 10]\n",
      " [10 10 10  0  0  0  0  0  0  0  0  0  0 10 10 10]\n",
      " [10 10 10  0  0  0  0  0  0  0  0  0  0 10 10 10]\n",
      " [10 10 10  0  0  0  0  0  0  0  0  0  0 10 10 10]\n",
      " [10 10 10  0  0  0  0  0  0  0  0  0  0 10 10 10]\n",
      " [10 10 10  0  0  0  0  0  0  0  0  0  0 10 10 10]\n",
      " [10 10 10  0  0  0  0  0  0  0  0  0  0 10 10 10]\n",
      " [10 10 10  0  0  0  0  0  0  0  0  0  0 10 10 10]\n",
      " [10 10 10  0  0  0  0  0  0  0  0  0  0 10 10 10]\n",
      " [10 10 10  0  0  0  0  0  0  0  0  0  0 10 10 10]\n",
      " [10 10 10  0  0  0  0  0  0  0  0  0  0 10 10 10]\n",
      " [10 10 10  0  0  0  0  0  0  0  0  0  0 10 10 10]\n",
      " [10 10 10  0  0  0  0  0  0  0  0  0  0 10 10 10]\n",
      " [10 10 10  0  0  0  0  0  0  0  0  0  0 10 10 10]\n",
      " [10 10 10 10 10 10 10 10 10 10 10 10 10 10 10 10]\n",
      " [10 10 10 10 10 10 10 10 10 10 10 10 10 10 10 10]\n",
      " [10 10 10 10 10 10 10 10 10 10 10 10 10 10 10 10]]\n"
     ]
    }
   ],
   "source": [
    "frame = custom_gym.render(mode=\"debug\")\n",
    "# frame[0][-4, 2:6] = 1\n",
    "print(frame[0])"
   ]
  },
  {
   "cell_type": "code",
   "execution_count": 24,
   "metadata": {},
   "outputs": [
    {
     "ename": "NameError",
     "evalue": "name 'b_width' is not defined",
     "output_type": "error",
     "traceback": [
      "\u001b[1;31m---------------------------------------------------------------------------\u001b[0m",
      "\u001b[1;31mNameError\u001b[0m                                 Traceback (most recent call last)",
      "\u001b[1;32m<ipython-input-24-d40911de50e8>\u001b[0m in \u001b[0;36m<module>\u001b[1;34m\u001b[0m\n\u001b[0;32m      4\u001b[0m }\n\u001b[0;32m      5\u001b[0m \u001b[1;33m\u001b[0m\u001b[0m\n\u001b[1;32m----> 6\u001b[1;33m \u001b[0mcustom_gym\u001b[0m\u001b[1;33m.\u001b[0m\u001b[0mstep\u001b[0m\u001b[1;33m(\u001b[0m\u001b[0maction\u001b[0m\u001b[1;33m)\u001b[0m\u001b[1;33m\u001b[0m\u001b[1;33m\u001b[0m\u001b[0m\n\u001b[0m",
      "\u001b[1;32m~\\Desktop\\UCLA\\Courses\\Spring_2021\\239AS\\239AS_T99_RL_Agent\\gym-t99\\gym_t99\\envs\\t99sc_env.py\u001b[0m in \u001b[0;36mstep\u001b[1;34m(self, action)\u001b[0m\n\u001b[0;32m     91\u001b[0m         \u001b[0mself\u001b[0m\u001b[1;33m.\u001b[0m\u001b[0m_process_event_queue\u001b[0m\u001b[1;33m(\u001b[0m\u001b[1;33m)\u001b[0m\u001b[1;33m\u001b[0m\u001b[1;33m\u001b[0m\u001b[0m\n\u001b[0;32m     92\u001b[0m         \u001b[1;31m# check who lost during time step\u001b[0m\u001b[1;33m\u001b[0m\u001b[1;33m\u001b[0m\u001b[1;33m\u001b[0m\u001b[0m\n\u001b[1;32m---> 93\u001b[1;33m         \u001b[0mself\u001b[0m\u001b[1;33m.\u001b[0m\u001b[0m_check_kos\u001b[0m\u001b[1;33m(\u001b[0m\u001b[1;33m)\u001b[0m\u001b[1;33m\u001b[0m\u001b[1;33m\u001b[0m\u001b[0m\n\u001b[0m\u001b[0;32m     94\u001b[0m         \u001b[1;31m# if the agent has lost, stop the game\u001b[0m\u001b[1;33m\u001b[0m\u001b[1;33m\u001b[0m\u001b[1;33m\u001b[0m\u001b[0m\n\u001b[0;32m     95\u001b[0m         \u001b[1;32mif\u001b[0m \u001b[1;32mnot\u001b[0m \u001b[0mself\u001b[0m\u001b[1;33m.\u001b[0m\u001b[0mactive_players\u001b[0m\u001b[1;33m[\u001b[0m\u001b[1;36m0\u001b[0m\u001b[1;33m]\u001b[0m\u001b[1;33m:\u001b[0m\u001b[1;33m\u001b[0m\u001b[1;33m\u001b[0m\u001b[0m\n",
      "\u001b[1;32m~\\Desktop\\UCLA\\Courses\\Spring_2021\\239AS\\239AS_T99_RL_Agent\\gym-t99\\gym_t99\\envs\\t99sc_env.py\u001b[0m in \u001b[0;36m_check_kos\u001b[1;34m(self)\u001b[0m\n\u001b[0;32m    237\u001b[0m                 \u001b[0mself\u001b[0m\u001b[1;33m.\u001b[0m\u001b[0mactive_players\u001b[0m\u001b[1;33m[\u001b[0m\u001b[0mi\u001b[0m\u001b[1;33m]\u001b[0m \u001b[1;33m=\u001b[0m \u001b[1;32mFalse\u001b[0m\u001b[1;33m\u001b[0m\u001b[1;33m\u001b[0m\u001b[0m\n\u001b[0;32m    238\u001b[0m             \u001b[1;31m# if the player has their board full\u001b[0m\u001b[1;33m\u001b[0m\u001b[1;33m\u001b[0m\u001b[1;33m\u001b[0m\u001b[0m\n\u001b[1;32m--> 239\u001b[1;33m             \u001b[1;32melif\u001b[0m \u001b[0mnp\u001b[0m\u001b[1;33m.\u001b[0m\u001b[0msum\u001b[0m\u001b[1;33m(\u001b[0m\u001b[0mself\u001b[0m\u001b[1;33m.\u001b[0m\u001b[0mstate\u001b[0m\u001b[1;33m.\u001b[0m\u001b[0mplayers\u001b[0m\u001b[1;33m[\u001b[0m\u001b[0mi\u001b[0m\u001b[1;33m]\u001b[0m\u001b[1;33m.\u001b[0m\u001b[0mboard\u001b[0m\u001b[1;33m.\u001b[0m\u001b[0mastype\u001b[0m\u001b[1;33m(\u001b[0m\u001b[0mbool\u001b[0m\u001b[1;33m)\u001b[0m\u001b[1;33m[\u001b[0m\u001b[1;36m0\u001b[0m\u001b[1;33m:\u001b[0m\u001b[1;36m5\u001b[0m\u001b[1;33m,\u001b[0m \u001b[1;36m3\u001b[0m\u001b[1;33m:\u001b[0m\u001b[0mb_width\u001b[0m \u001b[1;33m-\u001b[0m \u001b[1;36m3\u001b[0m\u001b[1;33m]\u001b[0m\u001b[1;33m)\u001b[0m \u001b[1;33m>\u001b[0m \u001b[1;36m0\u001b[0m\u001b[1;33m:\u001b[0m\u001b[1;33m\u001b[0m\u001b[1;33m\u001b[0m\u001b[0m\n\u001b[0m\u001b[0;32m    240\u001b[0m                 \u001b[1;31m# assign the position in the leaderboard\u001b[0m\u001b[1;33m\u001b[0m\u001b[1;33m\u001b[0m\u001b[1;33m\u001b[0m\u001b[0m\n\u001b[0;32m    241\u001b[0m                 \u001b[0mposition\u001b[0m \u001b[1;33m=\u001b[0m \u001b[0mlen\u001b[0m\u001b[1;33m(\u001b[0m\u001b[0mself\u001b[0m\u001b[1;33m.\u001b[0m\u001b[0mactive_players\u001b[0m\u001b[1;33m)\u001b[0m \u001b[1;33m-\u001b[0m \u001b[0mnp\u001b[0m\u001b[1;33m.\u001b[0m\u001b[0msum\u001b[0m\u001b[1;33m(\u001b[0m\u001b[0mnp\u001b[0m\u001b[1;33m.\u001b[0m\u001b[0mwhere\u001b[0m\u001b[1;33m(\u001b[0m\u001b[0mself\u001b[0m\u001b[1;33m.\u001b[0m\u001b[0mactive_players\u001b[0m \u001b[1;32mis\u001b[0m \u001b[1;32mTrue\u001b[0m\u001b[1;33m,\u001b[0m \u001b[1;36m1\u001b[0m\u001b[1;33m,\u001b[0m \u001b[1;36m0\u001b[0m\u001b[1;33m)\u001b[0m\u001b[1;33m)\u001b[0m\u001b[1;33m\u001b[0m\u001b[1;33m\u001b[0m\u001b[0m\n",
      "\u001b[1;31mNameError\u001b[0m: name 'b_width' is not defined"
     ]
    }
   ],
   "source": [
    "action = {\n",
    "    \"reward\": 0,\n",
    "    \"state\": deepcopy(custom_gym.state)\n",
    "}\n",
    "\n",
    "custom_gym.step(action)"
   ]
  },
  {
   "cell_type": "code",
   "execution_count": 21,
   "metadata": {},
   "outputs": [],
   "source": [
    "options = custom_gym._observe(0)"
   ]
  },
  {
   "cell_type": "code",
   "execution_count": 384,
   "metadata": {},
   "outputs": [],
   "source": [
    "custom_gym.state.players[0].board[11, 3] = 1"
   ]
  },
  {
   "cell_type": "code",
   "execution_count": 385,
   "metadata": {},
   "outputs": [
    {
     "name": "stdout",
     "output_type": "stream",
     "text": [
      "[[10 10 10  0  0  0  0  0  0  0  0  0  0 10 10 10]\n",
      " [10 10 10  0  0  0  0  0  0  0  0  0  0 10 10 10]\n",
      " [10 10 10  0  0  0  0  0  0  0  0  0  0 10 10 10]\n",
      " [10 10 10  0  0  0  0  0  0  0  0  0  0 10 10 10]\n",
      " [10 10 10  0  0  0  0  0  0  0  0  0  0 10 10 10]\n",
      " [10 10 10  0  0  0  0  0  0  0  0  0  0 10 10 10]\n",
      " [10 10 10  0  0  0  0  0  0  0  0  0  0 10 10 10]\n",
      " [10 10 10  0  0  0  0  0  0  0  0  0  0 10 10 10]\n",
      " [10 10 10  0  0  0  0  0  0  0  0  0  0 10 10 10]\n",
      " [10 10 10  0  0  0  0  0  0  0  0  0  0 10 10 10]\n",
      " [10 10 10  0  0  0  0  0  0  0  0  0  0 10 10 10]\n",
      " [10 10 10  0  0  0  0  0  0  0  0  0  0 10 10 10]\n",
      " [10 10 10  1  1  0  0  0  0  0  0  0  0 10 10 10]\n",
      " [10 10 10  0  1  0  0  0  0  0  0  0  0 10 10 10]\n",
      " [10 10 10  0  1  0  0  0  0  0  0  0  0 10 10 10]\n",
      " [10 10 10  0  1  0  0  0  0  0  0  0  0 10 10 10]\n",
      " [10 10 10  0  1  0  0  0  0  0  0  0  0 10 10 10]\n",
      " [10 10 10  0  6  0  0  0  0  0  0  0  0 10 10 10]\n",
      " [10 10 10  0  6  6  0  0  0  0  0  0  0 10 10 10]\n",
      " [10 10 10  0  0  6  0  0  0  0  0  0  0 10 10 10]\n",
      " [10 10 10  0  0  7  7  0  0  0  0  0  0 10 10 10]\n",
      " [10 10 10  0  0  7  7  0  1  0  0  0  0 10 10 10]\n",
      " [10 10 10  2  2  2  2  0  1  0  0  0  0 10 10 10]\n",
      " [10 10 10  2  0  2  0  0  1  0  0  0  0 10 10 10]\n",
      " [10 10 10  2  0  2  0  0  1  0  0  0  0 10 10 10]\n",
      " [10 10 10 10 10 10 10 10 10 10 10 10 10 10 10 10]\n",
      " [10 10 10 10 10 10 10 10 10 10 10 10 10 10 10 10]\n",
      " [10 10 10 10 10 10 10 10 10 10 10 10 10 10 10 10]]\n",
      "[[0 0 0 0 0]\n",
      " [0 4 4 4 0]\n",
      " [0 0 4 0 0]\n",
      " [0 0 0 0 0]\n",
      " [0 0 0 0 0]]\n",
      "4\n",
      "10\n"
     ]
    }
   ],
   "source": [
    "# custom_gym.state.players[0].board[21, 5:12] = 1\n",
    "print(custom_gym.state.players[0].board)\n",
    "print(custom_gym.state.players[0].piece_current.matrix)\n",
    "print(custom_gym.state.players[0].piece_current.x)\n",
    "print(custom_gym.state.players[0].piece_current.y)"
   ]
  },
  {
   "cell_type": "code",
   "execution_count": 334,
   "metadata": {},
   "outputs": [
    {
     "data": {
      "text/plain": [
       "False"
      ]
     },
     "execution_count": 334,
     "metadata": {},
     "output_type": "execute_result"
    }
   ],
   "source": [
    "custom_gym._collision(custom_gym.state.players[0].board,\n",
    "                      custom_gym.state.players[0].piece_current)"
   ]
  },
  {
   "cell_type": "code",
   "execution_count": 333,
   "metadata": {},
   "outputs": [],
   "source": [
    "custom_gym.state.players[0].piece_current.y -= 1"
   ]
  },
  {
   "cell_type": "code",
   "execution_count": 159,
   "metadata": {},
   "outputs": [
    {
     "data": {
      "text/plain": [
       "(None, None, None, {})"
      ]
     },
     "execution_count": 159,
     "metadata": {},
     "output_type": "execute_result"
    }
   ],
   "source": [
    "custom_gym.step(1)"
   ]
  },
  {
   "cell_type": "code",
   "execution_count": 30,
   "metadata": {},
   "outputs": [
    {
     "name": "stderr",
     "output_type": "stream",
     "text": [
      "[autoreload of gym_t99 failed: Traceback (most recent call last):\n",
      "  File \"C:\\Users\\slavc\\AppData\\Roaming\\Python\\Python38\\site-packages\\IPython\\extensions\\autoreload.py\", line 245, in check\n",
      "    superreload(m, reload, self.old_objects)\n",
      "  File \"C:\\Users\\slavc\\AppData\\Roaming\\Python\\Python38\\site-packages\\IPython\\extensions\\autoreload.py\", line 394, in superreload\n",
      "    module = reload(module)\n",
      "  File \"C:\\Users\\slavc\\Desktop\\UCLA\\Courses\\Spring_2021\\239AS\\239AS_T99_RL_Agent\\venv_239AS\\lib\\imp.py\", line 314, in reload\n",
      "    return importlib.reload(module)\n",
      "  File \"C:\\Users\\slavc\\Desktop\\UCLA\\Courses\\Spring_2021\\239AS\\239AS_T99_RL_Agent\\venv_239AS\\lib\\importlib\\__init__.py\", line 169, in reload\n",
      "    _bootstrap._exec(spec, module)\n",
      "  File \"<frozen importlib._bootstrap>\", line 604, in _exec\n",
      "  File \"<frozen importlib._bootstrap_external>\", line 783, in exec_module\n",
      "  File \"<frozen importlib._bootstrap>\", line 219, in _call_with_frames_removed\n",
      "  File \"C:\\Users\\slavc\\Desktop\\UCLA\\Courses\\Spring_2021\\239AS\\239AS_T99_RL_Agent\\gym-t99\\gym_t99\\__init__.py\", line 4, in <module>\n",
      "    register(\n",
      "  File \"C:\\Users\\slavc\\Desktop\\UCLA\\Courses\\Spring_2021\\239AS\\239AS_T99_RL_Agent\\venv_239AS\\lib\\site-packages\\gym\\envs\\registration.py\", line 142, in register\n",
      "    return registry.register(id, **kwargs)\n",
      "  File \"C:\\Users\\slavc\\Desktop\\UCLA\\Courses\\Spring_2021\\239AS\\239AS_T99_RL_Agent\\venv_239AS\\lib\\site-packages\\gym\\envs\\registration.py\", line 135, in register\n",
      "    raise error.Error('Cannot re-register id: {}'.format(id))\n",
      "gym.error.Error: Cannot re-register id: basic-v0\n",
      "]\n"
     ]
    },
    {
     "data": {
      "text/plain": [
       "array([0, 1, 2, 3, 4, 5, 6, 7, 8, 9])"
      ]
     },
     "execution_count": 30,
     "metadata": {},
     "output_type": "execute_result"
    }
   ],
   "source": [
    "np.arange(10)"
   ]
  }
 ],
 "metadata": {
  "kernelspec": {
   "display_name": "venv_239AS",
   "language": "python",
   "name": "venv_239as"
  },
  "language_info": {
   "codemirror_mode": {
    "name": "ipython",
    "version": 3
   },
   "file_extension": ".py",
   "mimetype": "text/x-python",
   "name": "python",
   "nbconvert_exporter": "python",
   "pygments_lexer": "ipython3",
   "version": "3.8.8"
  },
  "varInspector": {
   "cols": {
    "lenName": 16,
    "lenType": 16,
    "lenVar": 40
   },
   "kernels_config": {
    "python": {
     "delete_cmd_postfix": "",
     "delete_cmd_prefix": "del ",
     "library": "var_list.py",
     "varRefreshCmd": "print(var_dic_list())"
    },
    "r": {
     "delete_cmd_postfix": ") ",
     "delete_cmd_prefix": "rm(",
     "library": "var_list.r",
     "varRefreshCmd": "cat(var_dic_list()) "
    }
   },
   "types_to_exclude": [
    "module",
    "function",
    "builtin_function_or_method",
    "instance",
    "_Feature"
   ],
   "window_display": false
  }
 },
 "nbformat": 4,
 "nbformat_minor": 2
}
