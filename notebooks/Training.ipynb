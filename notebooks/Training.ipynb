{
 "cells": [
  {
   "cell_type": "markdown",
   "metadata": {},
   "source": [
    "# Notebook notes"
   ]
  },
  {
   "cell_type": "markdown",
   "metadata": {},
   "source": [
    "This notebook is for testing training"
   ]
  },
  {
   "cell_type": "markdown",
   "metadata": {},
   "source": [
    "# Import libs"
   ]
  },
  {
   "cell_type": "markdown",
   "metadata": {},
   "source": [
    "**setup autoreload**"
   ]
  },
  {
   "cell_type": "code",
   "execution_count": 1,
   "metadata": {},
   "outputs": [],
   "source": [
    "%load_ext autoreload\n",
    "%autoreload 2"
   ]
  },
  {
   "cell_type": "markdown",
   "metadata": {},
   "source": [
    "**configure system path**"
   ]
  },
  {
   "cell_type": "code",
   "execution_count": 2,
   "metadata": {},
   "outputs": [],
   "source": [
    "import os\n",
    "import sys\n",
    "\n",
    "# list directories where packages are stored\n",
    "# note that the parent directory of te repo is added automatically\n",
    "GYM_FOLDER = \"gym-t99\"\n",
    "\n",
    "# get this notebook's current working directory\n",
    "nb_cwd = os.getcwd()\n",
    "# get name of its parent directory\n",
    "nb_parent = os.path.dirname(nb_cwd)\n",
    "# add packages to path\n",
    "sys.path.insert(len(sys.path), nb_parent)\n",
    "sys.path.insert(len(sys.path), os.path.join(nb_parent, GYM_FOLDER))"
   ]
  },
  {
   "cell_type": "markdown",
   "metadata": {},
   "source": [
    "**import custom packages**\n",
    "\n",
    "Use this code if you have not yet loaded gym_t99"
   ]
  },
  {
   "cell_type": "code",
   "execution_count": 3,
   "metadata": {},
   "outputs": [],
   "source": [
    "import gym\n",
    "registered = gym.envs.registration.registry.env_specs.copy()\n",
    "\n",
    "import gym_t99\n",
    "import t_net"
   ]
  },
  {
   "cell_type": "markdown",
   "metadata": {},
   "source": [
    "**import custom packages**\n",
    "\n",
    "Use this code if you have already loaded gym_t99, but now you introduced changes and want to re-load it again"
   ]
  },
  {
   "cell_type": "code",
   "execution_count": 4,
   "metadata": {},
   "outputs": [
    {
     "output_type": "stream",
     "name": "stdout",
     "text": [
      "Remove basic-v0 from registry\nRemove t99-v0 from registry\n"
     ]
    },
    {
     "output_type": "execute_result",
     "data": {
      "text/plain": [
       "<module 'gym_t99' from '/Users/ianconceicao/239AS_T99_RL_Agent/gym-t99/gym_t99/__init__.py'>"
      ]
     },
     "metadata": {},
     "execution_count": 4
    }
   ],
   "source": [
    "import imp\n",
    "\n",
    "# this code removes environment from gym's registry\n",
    "env_dict = gym.envs.registration.registry.env_specs.copy()\n",
    "for env in env_dict:\n",
    "    if env not in registered:\n",
    "        print(\"Remove {} from registry\".format(env))\n",
    "        del gym.envs.registration.registry.env_specs[env]\n",
    "\n",
    "imp.reload(gym_t99)"
   ]
  },
  {
   "cell_type": "markdown",
   "metadata": {},
   "source": [
    "**import out-of-the-box packages**"
   ]
  },
  {
   "cell_type": "code",
   "execution_count": 5,
   "metadata": {},
   "outputs": [],
   "source": [
    "# import matplotlib\n",
    "import matplotlib as plt\n",
    "# configure matplotlib\n",
    "%matplotlib inline"
   ]
  },
  {
   "cell_type": "code",
   "execution_count": 6,
   "metadata": {},
   "outputs": [],
   "source": [
    "import numpy as np\n",
    "from collections import OrderedDict"
   ]
  },
  {
   "cell_type": "code",
   "execution_count": 7,
   "metadata": {},
   "outputs": [
    {
     "output_type": "stream",
     "name": "stdout",
     "text": [
      "cpu\n"
     ]
    }
   ],
   "source": [
    "# import torch\n",
    "import torch\n",
    "from torch import nn\n",
    "\n",
    "# configure torch\n",
    "device = torch.device(\"cuda\" if torch.cuda.is_available() else \"cpu\")\n",
    "print(device)"
   ]
  },
  {
   "cell_type": "markdown",
   "metadata": {},
   "source": [
    "# Workspace"
   ]
  },
  {
   "cell_type": "code",
   "execution_count": 8,
   "metadata": {},
   "outputs": [],
   "source": [
    "# a simple random agent to play aginst and test\n",
    "class RandomEnemy:\n",
    "    def __init__(self):\n",
    "        self.action_space = [1, 2, 3, 4, 5, 6, 7, 8, 9]\n",
    "    \n",
    "    # this interface needs to be supported for any agent\n",
    "    def action(self, state):\n",
    "        return np.random.choice(self.action_space)"
   ]
  },
  {
   "cell_type": "code",
   "execution_count": 155,
   "metadata": {},
   "outputs": [],
   "source": [
    "custom_gym = gym.make('gym_t99:t99-v0', num_players = 100, enemy=RandomEnemy())"
   ]
  },
  {
   "cell_type": "code",
   "execution_count": null,
   "metadata": {},
   "outputs": [],
   "source": [
    "custom_gym.state.players[0].place = 10"
   ]
  },
  {
   "cell_type": "code",
   "execution_count": 156,
   "metadata": {},
   "outputs": [],
   "source": [
    "custom_gym.state.players[0].board = \\\n",
    "                                  np.array([[10,10, 0, 0, 0, 0, 4, 4, 4, 0, 0, 0,10,10],\n",
    "                                            [10,10, 0, 0, 0, 0, 0, 4, 0, 0, 0, 0,10,10],\n",
    "                                            [10,10, 0, 0, 0, 0, 0, 0, 0, 0, 0, 0,10,10],\n",
    "                                            [10,10, 0, 0, 0, 0, 0, 0, 0, 0, 0, 0,10,10],\n",
    "                                            [10,10, 0, 0, 0, 0, 0, 0, 0, 0, 0, 0,10,10],\n",
    "                                            [10,10, 0, 0, 0, 0, 0, 0, 0, 0, 0, 0,10,10],\n",
    "                                            [10,10, 0, 0, 0, 0, 0, 0, 0, 0, 0, 0,10,10],\n",
    "                                            [10,10, 0, 0, 0, 0, 0, 0, 0, 0, 0, 0,10,10],\n",
    "                                            [10,10, 0, 0, 0, 0, 0, 0, 0, 0, 0, 0,10,10],\n",
    "                                            [10,10, 0, 0, 0, 0, 0, 0, 0, 0, 0, 0,10,10],\n",
    "                                            [10,10, 0, 0, 0, 0, 0, 3, 3, 0, 0, 0,10,10],\n",
    "                                            [10,10, 0, 0, 0, 0, 0, 0, 3, 0, 0, 0,10,10],\n",
    "                                            [10,10, 1, 0, 0, 0, 0, 0, 3, 0, 0, 0,10,10],\n",
    "                                            [10,10, 1, 0, 0, 0, 0, 0, 3, 0, 0, 0,10,10],\n",
    "                                            [10,10, 1, 0, 0, 0, 0, 0, 0, 0, 0, 0,10,10],\n",
    "                                            [10,10, 1, 0, 0, 0, 2, 2, 0, 0, 0, 0,10,10],\n",
    "                                            [10,10, 0, 0, 0, 0, 2, 0, 0, 0, 0, 0,10,10],\n",
    "                                            [10,10, 0, 0, 0, 0, 2, 0, 0, 0, 0, 0,10,10],\n",
    "                                            [10,10, 0, 0, 0, 0, 2, 0, 0, 0, 0, 0,10,10],\n",
    "                                            [10,10, 0, 0, 0, 0, 0, 0, 0, 0, 0, 0,10,10],\n",
    "                                            [10,10, 0, 0, 0, 0, 0, 0, 0, 0, 0, 0,10,10],\n",
    "                                            [10,10, 0, 0, 0, 0, 0, 0, 0, 0, 0, 0,10,10],\n",
    "                                            [10,10, 0, 0, 0, 5, 0, 0, 0, 0, 0, 0,10,10],\n",
    "                                            [10,10, 0, 0, 5, 5, 0, 0, 0, 0, 0, 0,10,10],\n",
    "                                            [10,10, 0, 0, 5, 7, 7, 0, 0, 0, 0, 0,10,10],\n",
    "                                            [10,10, 0, 0, 0, 7, 7, 0, 0, 0, 0, 0,10,10],\n",
    "                                            [10,10,10,10,10,10,10,10,10,10,10,10,10,10],\n",
    "                                            [10,10,10,10,10,10,10,10,10,10,10,10,10,10]])"
   ]
  },
  {
   "cell_type": "code",
   "execution_count": 157,
   "metadata": {},
   "outputs": [
    {
     "output_type": "stream",
     "name": "stdout",
     "text": [
      "2 2\n"
     ]
    }
   ],
   "source": [
    "frame = custom_gym.render(mode=\"human\")\n",
    "#print(frame[0])"
   ]
  },
  {
   "cell_type": "code",
   "execution_count": 61,
   "metadata": {
    "scrolled": false
   },
   "outputs": [],
   "source": [
    "for _ in range(20):\n",
    "    custom_gym.step(1)"
   ]
  },
  {
   "cell_type": "code",
   "execution_count": 183,
   "metadata": {},
   "outputs": [
    {
     "name": "stdout",
     "output_type": "stream",
     "text": [
      "[[10 10  0  0  0  0  0  0  0  0  0  0 10 10]\n",
      " [10 10  0  0  0  0  0  0  0  0  0  0 10 10]\n",
      " [10 10  0  0  0  0  0  0  0  0  0  0 10 10]\n",
      " [10 10  0  0  0  0  0  0  0  0  0  0 10 10]\n",
      " [10 10  0  0  0  0  0  0  0  0  0  0 10 10]\n",
      " [10 10  0  0  0  0  0  0  0  0  0  0 10 10]\n",
      " [10 10  0  0  0  0  0  0  0  0  0  0 10 10]\n",
      " [10 10  0  0  0  0  0  0  0  0  0  0 10 10]\n",
      " [10 10  0  0  0  0  0  0  0  0  0  0 10 10]\n",
      " [10 10  0  0  0  0  0  0  0  0  0  0 10 10]\n",
      " [10 10  0  0  0  0  0  0  0  0  0  0 10 10]\n",
      " [10 10  0  0  0  0  0  0  0  0  0  0 10 10]\n",
      " [10 10  0  0  0  0  0  0  0  0  0  0 10 10]\n",
      " [10 10  0  0  0  0  0  0  0  0  0  0 10 10]\n",
      " [10 10  0  0  0  0  0  0  0  0  0  0 10 10]\n",
      " [10 10  0  0  0  0  0  0  0  0  0  0 10 10]\n",
      " [10 10  0  0  0  0  0  0  0  0  0  0 10 10]\n",
      " [10 10  0  0  0  0  0  0  0  0  0  0 10 10]\n",
      " [10 10  0  0  0  0  0  0  0  0  0  0 10 10]\n",
      " [10 10  0  0  0  0  0  0  0  0  0  0 10 10]\n",
      " [10 10  0  0  0  0  0  0  0  0  0  0 10 10]\n",
      " [10 10  0  0  0  0  0  0  0  0  0  0 10 10]\n",
      " [10 10  0  0  0  5  0  0  0  0  0  0 10 10]\n",
      " [10 10  0  0  5  5  0  0  0  0  0  0 10 10]\n",
      " [10 10  0  0  5  0  0  0  0  0  0  0 10 10]\n",
      " [10 10  0  0  0  0  0  0  0  0  0  0 10 10]\n",
      " [10 10 10 10 10 10 10 10 10 10 10 10 10 10]]\n",
      "[[0 0 0 0 0]\n",
      " [0 3 3 0 0]\n",
      " [0 0 3 0 0]\n",
      " [0 0 3 0 0]\n",
      " [0 0 0 0 0]]\n"
     ]
    }
   ],
   "source": [
    "# custom_gym.state.players[0].board[21, 5:12] = 1\n",
    "print(custom_gym.state.players[1].board)\n",
    "print(custom_gym.state.players[1].piece_current.matrix)"
   ]
  },
  {
   "cell_type": "code",
   "execution_count": 159,
   "metadata": {},
   "outputs": [
    {
     "data": {
      "text/plain": [
       "(None, None, None, {})"
      ]
     },
     "execution_count": 159,
     "metadata": {},
     "output_type": "execute_result"
    }
   ],
   "source": [
    "custom_gym.step(1)"
   ]
  },
  {
   "cell_type": "code",
   "execution_count": 151,
   "metadata": {},
   "outputs": [
    {
     "name": "stdout",
     "output_type": "stream",
     "text": [
      "[12, 11, 10, 9, 8, 7, 6, 5, 4, 3, 2]\n"
     ]
    }
   ],
   "source": [
    "a = [i for i in range(12, 1, -1)]\n",
    "print(a)"
   ]
  },
  {
   "cell_type": "code",
   "execution_count": null,
   "metadata": {},
   "outputs": [],
   "source": [
    "frame = custom_gym.render(mode=\"debug\")\n",
    "print(frame[0])"
   ]
  }
 ],
 "metadata": {
  "kernelspec": {
   "name": "python388jvsc74a57bd046784d1d9b858be1b0910638545cf30bc191a0b764c6fd86aef8420440adde94",
   "display_name": "Python 3.8.8 64-bit (conda)"
  },
  "language_info": {
   "codemirror_mode": {
    "name": "ipython",
    "version": 3
   },
   "file_extension": ".py",
   "mimetype": "text/x-python",
   "name": "python",
   "nbconvert_exporter": "python",
   "pygments_lexer": "ipython3",
   "version": "3.8.8"
  },
  "varInspector": {
   "cols": {
    "lenName": 16,
    "lenType": 16,
    "lenVar": 40
   },
   "kernels_config": {
    "python": {
     "delete_cmd_postfix": "",
     "delete_cmd_prefix": "del ",
     "library": "var_list.py",
     "varRefreshCmd": "print(var_dic_list())"
    },
    "r": {
     "delete_cmd_postfix": ") ",
     "delete_cmd_prefix": "rm(",
     "library": "var_list.r",
     "varRefreshCmd": "cat(var_dic_list()) "
    }
   },
   "types_to_exclude": [
    "module",
    "function",
    "builtin_function_or_method",
    "instance",
    "_Feature"
   ],
   "window_display": false
  }
 },
 "nbformat": 4,
 "nbformat_minor": 2
}