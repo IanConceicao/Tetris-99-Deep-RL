{
 "cells": [
  {
   "cell_type": "markdown",
   "metadata": {},
   "source": [
    "# Notebook notes"
   ]
  },
  {
   "cell_type": "markdown",
   "metadata": {},
   "source": [
    "This notebook is for testing and training of CNN-based DQN\n",
    "\n",
    "Each member of \"options\" list is a State99 \n",
    "\n",
    "what happens after call step?\n",
    "\n",
    "1. state of the player controlled by Agent is updated. It becomes exactly as one passed in \"aciton\" dictionary\n",
    "2. states of all other players are updated\n",
    "3. after all of the updates happened, *.step() calculates all options for the NEXT step (for pieces it holds at hand and in swap). These options, along with rewards they will trigger, are returned."
   ]
  },
  {
   "cell_type": "markdown",
   "metadata": {},
   "source": [
    "# Import libs"
   ]
  },
  {
   "cell_type": "markdown",
   "metadata": {},
   "source": [
    "**setup autoreload**"
   ]
  },
  {
   "cell_type": "code",
   "execution_count": 1,
   "metadata": {},
   "outputs": [],
   "source": [
    "%load_ext autoreload\n",
    "%autoreload 2"
   ]
  },
  {
   "cell_type": "markdown",
   "metadata": {},
   "source": [
    "**configure system path**"
   ]
  },
  {
   "cell_type": "code",
   "execution_count": 2,
   "metadata": {},
   "outputs": [],
   "source": [
    "import os\n",
    "import sys\n",
    "\n",
    "# list directories where packages are stored\n",
    "# note that the parent directory of te repo is added automatically\n",
    "GYM_FOLDER = \"gym-t99\"\n",
    "\n",
    "# get this notebook's current working directory\n",
    "nb_cwd = os.getcwd()\n",
    "# get name of its parent directory\n",
    "nb_parent = os.path.dirname(nb_cwd)\n",
    "# add packages to path\n",
    "sys.path.insert(len(sys.path), nb_parent)\n",
    "sys.path.insert(len(sys.path), os.path.join(nb_parent, GYM_FOLDER))"
   ]
  },
  {
   "cell_type": "markdown",
   "metadata": {},
   "source": [
    "**import custom packages**\n",
    "\n",
    "Use this code if you have not yet loaded gym_t99"
   ]
  },
  {
   "cell_type": "code",
   "execution_count": 3,
   "metadata": {},
   "outputs": [
    {
     "name": "stdout",
     "output_type": "stream",
     "text": [
      "pygame 2.0.1 (SDL 2.0.14, Python 3.8.8)\n",
      "Hello from the pygame community. https://www.pygame.org/contribute.html\n"
     ]
    }
   ],
   "source": [
    "import gym\n",
    "registered = gym.envs.registration.registry.env_specs.copy()\n",
    "\n",
    "import gym_t99\n",
    "import t_net"
   ]
  },
  {
   "cell_type": "markdown",
   "metadata": {},
   "source": [
    "**import custom packages**\n",
    "\n",
    "Use this code if you have already loaded gym_t99, but now you introduced changes and want to re-load it again"
   ]
  },
  {
   "cell_type": "code",
   "execution_count": 58,
   "metadata": {},
   "outputs": [
    {
     "name": "stdout",
     "output_type": "stream",
     "text": [
      "Remove basic-v0 from registry\n",
      "Remove t99-v0 from registry\n",
      "Remove t99sc-v0 from registry\n"
     ]
    },
    {
     "data": {
      "text/plain": [
       "<module 'gym_t99' from 'C:\\\\Users\\\\slavc\\\\Desktop\\\\UCLA\\\\Courses\\\\Spring_2021\\\\239AS\\\\239AS_T99_RL_Agent\\\\gym-t99\\\\gym_t99\\\\__init__.py'>"
      ]
     },
     "execution_count": 58,
     "metadata": {},
     "output_type": "execute_result"
    }
   ],
   "source": [
    "import imp\n",
    "\n",
    "# this code removes environment from gym's registry\n",
    "env_dict = gym.envs.registration.registry.env_specs.copy()\n",
    "for env in env_dict:\n",
    "    if env not in registered:\n",
    "        print(\"Remove {} from registry\".format(env))\n",
    "        del gym.envs.registration.registry.env_specs[env]\n",
    "\n",
    "imp.reload(gym_t99)"
   ]
  },
  {
   "cell_type": "code",
   "execution_count": 6,
   "metadata": {},
   "outputs": [
    {
     "data": {
      "text/plain": [
       "<module 't_net' from 'C:\\\\Users\\\\slavc\\\\Desktop\\\\UCLA\\\\Courses\\\\Spring_2021\\\\239AS\\\\239AS_T99_RL_Agent\\\\t_net\\\\__init__.py'>"
      ]
     },
     "execution_count": 6,
     "metadata": {},
     "output_type": "execute_result"
    }
   ],
   "source": [
    "import imp\n",
    "imp.reload(t_net)"
   ]
  },
  {
   "cell_type": "markdown",
   "metadata": {},
   "source": [
    "**import out-of-the-box packages**"
   ]
  },
  {
   "cell_type": "code",
   "execution_count": 4,
   "metadata": {},
   "outputs": [
    {
     "name": "stdout",
     "output_type": "stream",
     "text": [
      "cpu\n"
     ]
    }
   ],
   "source": [
    "# import matplotlib\n",
    "import matplotlib.pyplot as plt\n",
    "# configure matplotlib\n",
    "%matplotlib inline\n",
    "\n",
    "import numpy as np\n",
    "from copy import deepcopy\n",
    "\n",
    "# import torch\n",
    "import torch\n",
    "from torch import nn\n",
    "\n",
    "# configure torch\n",
    "device = torch.device(\"cuda\" if torch.cuda.is_available() else \"cpu\")\n",
    "print(device)"
   ]
  },
  {
   "cell_type": "markdown",
   "metadata": {},
   "source": [
    "# Testground"
   ]
  },
  {
   "cell_type": "code",
   "execution_count": 5,
   "metadata": {},
   "outputs": [],
   "source": [
    "custom_gym = gym.make('gym_t99:t99sc-v0', num_players = 2, enemy=None)"
   ]
  },
  {
   "cell_type": "code",
   "execution_count": null,
   "metadata": {},
   "outputs": [],
   "source": [
    "custom_gym.reset()"
   ]
  },
  {
   "cell_type": "code",
   "execution_count": 7,
   "metadata": {},
   "outputs": [
    {
     "name": "stdout",
     "output_type": "stream",
     "text": [
      "[[10 10 10  0  0  0  0  0  0  0  0  0  0 10 10 10]\n",
      " [10 10 10  0  4  4  4  0  0  0  0  0  0 10 10 10]\n",
      " [10 10 10  0  0  4  0  0  0  0  0  0  0 10 10 10]\n",
      " [10 10 10  0  0  0  0  0  0  0  0  0  0 10 10 10]\n",
      " [10 10 10  0  0  0  0  0  0  0  0  0  0 10 10 10]\n",
      " [10 10 10  0  0  0  0  0  0  0  0  0  0 10 10 10]\n",
      " [10 10 10  0  0  0  0  0  0  0  0  0  0 10 10 10]\n",
      " [10 10 10  0  0  0  0  0  0  0  0  0  0 10 10 10]\n",
      " [10 10 10  0  0  0  0  0  0  0  0  0  0 10 10 10]\n",
      " [10 10 10  0  0  0  0  0  0  0  0  0  0 10 10 10]\n",
      " [10 10 10  0  0  0  0  0  0  0  0  0  0 10 10 10]\n",
      " [10 10 10  0  0  0  0  0  0  0  0  0  0 10 10 10]\n",
      " [10 10 10  0  0  0  0  0  0  0  0  0  0 10 10 10]\n",
      " [10 10 10  0  0  0  0  0  0  0  0  0  0 10 10 10]\n",
      " [10 10 10  0  0  0  0  0  0  0  0  0  0 10 10 10]\n",
      " [10 10 10  0  0  0  0  0  0  0  0  0  0 10 10 10]\n",
      " [10 10 10  0  0  0  0  0  0  0  0  0  0 10 10 10]\n",
      " [10 10 10  0  0  0  0  0  0  0  0  0  0 10 10 10]\n",
      " [10 10 10  0  0  0  0  0  0  0  0  0  0 10 10 10]\n",
      " [10 10 10  0  0  0  0  0  0  0  0  0  0 10 10 10]\n",
      " [10 10 10  0  0  0  0  0  0  0  0  0  0 10 10 10]\n",
      " [10 10 10  0  0  0  0  0  0  0  0  0  0 10 10 10]\n",
      " [10 10 10  0  0  0  0  0  0  0  0  0  0 10 10 10]\n",
      " [10 10 10  0  0  0  0  0  0  0  0  0  0 10 10 10]\n",
      " [10 10 10  0  0  0  0  0  0  0  0  0  0 10 10 10]\n",
      " [10 10 10 10 10 10 10 10 10 10 10 10 10 10 10 10]\n",
      " [10 10 10 10 10 10 10 10 10 10 10 10 10 10 10 10]\n",
      " [10 10 10 10 10 10 10 10 10 10 10 10 10 10 10 10]]\n"
     ]
    }
   ],
   "source": [
    "frame = custom_gym.render(mode=\"debug\")\n",
    "# frame[0][-4, 2:6] = 1\n",
    "print(frame[0])"
   ]
  },
  {
   "cell_type": "markdown",
   "metadata": {},
   "source": [
    "# NN training"
   ]
  },
  {
   "cell_type": "code",
   "execution_count": 6,
   "metadata": {},
   "outputs": [],
   "source": [
    "# initialize net\n",
    "my_net = t_net.FCNet()\n",
    "# initialize features\n",
    "my_features = t_net.calculate_linear_features"
   ]
  },
  {
   "cell_type": "code",
   "execution_count": 7,
   "metadata": {},
   "outputs": [],
   "source": [
    "# initialize an enemy\n",
    "my_npc = t_net.StandardNPC(my_net, device, my_features)\n",
    "# assign the enemy to the environemnt\n",
    "custom_gym.enemy = my_npc"
   ]
  },
  {
   "cell_type": "code",
   "execution_count": 8,
   "metadata": {},
   "outputs": [],
   "source": [
    "agent = t_net.AgentSCFixedTarget(env=custom_gym,\n",
    "                                 discount = 0.99,\n",
    "                                 net = my_net,\n",
    "                                 learning_rate = 0.001,\n",
    "                                 criterion = nn.MSELoss(),\n",
    "                                 device=device,\n",
    "                                 features = my_features)"
   ]
  },
  {
   "cell_type": "code",
   "execution_count": 15,
   "metadata": {
    "scrolled": true
   },
   "outputs": [
    {
     "name": "stdout",
     "output_type": "stream",
     "text": [
      "calculating step 0\n",
      "target net updated\n",
      "npc net updated\n",
      "calculating step 500\n",
      "calculating step 1000\n",
      "calculating step 1500\n",
      "calculating step 2000\n",
      "target net updated\n",
      "calculating step 2500\n",
      "calculating step 3000\n",
      "calculating step 3500\n",
      "calculating step 4000\n",
      "target net updated\n",
      "calculating step 4500\n",
      "calculating step 5000\n",
      "npc net updated\n",
      "calculating step 5500\n",
      "calculating step 6000\n",
      "target net updated\n",
      "calculating step 6500\n",
      "calculating step 7000\n",
      "calculating step 7500\n",
      "calculating step 8000\n",
      "target net updated\n",
      "calculating step 8500\n",
      "calculating step 9000\n",
      "calculating step 9500\n"
     ]
    }
   ],
   "source": [
    "agent.train(steps=10000)"
   ]
  },
  {
   "cell_type": "code",
   "execution_count": null,
   "metadata": {},
   "outputs": [],
   "source": [
    "agent.train(steps=35000)"
   ]
  },
  {
   "cell_type": "code",
   "execution_count": 16,
   "metadata": {},
   "outputs": [],
   "source": [
    "r_hist = agent.cumulative_rewards_training\n",
    "step_hist = agent.steps_per_episode_training\n",
    "cleared_hist = agent.lines_cleared_per_episode_training\n",
    "sent_hist = agent.lines_sent_per_episode_training"
   ]
  },
  {
   "cell_type": "code",
   "execution_count": 17,
   "metadata": {},
   "outputs": [
    {
     "data": {
      "text/plain": [
       "Text(0, 0.5, 'Lines sent')"
      ]
     },
     "execution_count": 17,
     "metadata": {},
     "output_type": "execute_result"
    },
    {
     "data": {
      "image/png": "[encoded data removed]",
      "text/plain": [
       "<Figure size 720x720 with 4 Axes>"
      ]
     },
     "metadata": {
      "needs_background": "light"
     },
     "output_type": "display_data"
    }
   ],
   "source": [
    "episodes = np.arange(len(r_hist))\n",
    "fig, ((ax1, ax2), (ax3, ax4)) = plt.subplots(2, 2, figsize=(10,10))\n",
    "\n",
    "fig.suptitle(\"DQN training\")\n",
    "ax1.plot(episodes, r_hist, \"-b\")\n",
    "ax1.grid()\n",
    "ax1.title.set_text(\"Reward history\")\n",
    "ax1.set_xlabel('Episode')\n",
    "ax1.set_ylabel('Reward')\n",
    "ax2.plot(episodes, step_hist, \"-b\")\n",
    "ax2.grid()\n",
    "ax2.title.set_text(\"Gameplay length\")\n",
    "ax2.set_xlabel('Episode')\n",
    "ax2.set_ylabel('Number of steps')\n",
    "ax3.plot(episodes, cleared_hist, \"-b\")\n",
    "ax3.grid()\n",
    "ax3.title.set_text(\"Cleared lines recordings\")\n",
    "ax3.set_xlabel('Episode')\n",
    "ax3.set_ylabel('Lines cleared')\n",
    "ax4.plot(episodes, sent_hist, \"-b\")\n",
    "ax4.grid()\n",
    "ax4.title.set_text(\"Sent lines recordings\")\n",
    "ax4.set_xlabel('Episode')\n",
    "ax4.set_ylabel('Lines sent')\n",
    "# plt.savefig(\"plots/cnngaamma99eps1.png\", dpi=200)"
   ]
  },
  {
   "cell_type": "code",
   "execution_count": null,
   "metadata": {},
   "outputs": [
    {
     "name": "stdout",
     "output_type": "stream",
     "text": [
      "calculating step 0\n",
      "calculating step 1000\n",
      "calculating step 2000\n"
     ]
    }
   ],
   "source": [
    "agent.test(steps=10000)"
   ]
  },
  {
   "cell_type": "code",
   "execution_count": null,
   "metadata": {},
   "outputs": [],
   "source": []
  },
  {
   "cell_type": "code",
   "execution_count": 16,
   "metadata": {
    "scrolled": false
   },
   "outputs": [],
   "source": [
    "agent.save_state(path=\"agents/CNN_plus_clear_lines.pth\")"
   ]
  }
 ],
 "metadata": {
  "kernelspec": {
   "display_name": "venv_239AS",
   "language": "python",
   "name": "venv_239as"
  },
  "language_info": {
   "codemirror_mode": {
    "name": "ipython",
    "version": 3
   },
   "file_extension": ".py",
   "mimetype": "text/x-python",
   "name": "python",
   "nbconvert_exporter": "python",
   "pygments_lexer": "ipython3",
   "version": "3.8.8"
  },
  "varInspector": {
   "cols": {
    "lenName": 16,
    "lenType": 16,
    "lenVar": 40
   },
   "kernels_config": {
    "python": {
     "delete_cmd_postfix": "",
     "delete_cmd_prefix": "del ",
     "library": "var_list.py",
     "varRefreshCmd": "print(var_dic_list())"
    },
    "r": {
     "delete_cmd_postfix": ") ",
     "delete_cmd_prefix": "rm(",
     "library": "var_list.r",
     "varRefreshCmd": "cat(var_dic_list()) "
    }
   },
   "types_to_exclude": [
    "module",
    "function",
    "builtin_function_or_method",
    "instance",
    "_Feature"
   ],
   "window_display": false
  }
 },
 "nbformat": 4,
 "nbformat_minor": 2
}
