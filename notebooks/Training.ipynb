{
 "cells": [
  {
   "cell_type": "markdown",
   "metadata": {},
   "source": [
    "# Notebook notes"
   ]
  },
  {
   "cell_type": "markdown",
   "metadata": {},
   "source": [
    "This notebook is for testing and training of CNN-based DQN\n",
    "\n",
    "Each member of \"options\" list is a State99 \n",
    "\n",
    "what happens after call step?\n",
    "\n",
    "1. state of the player controlled by Agent is updated. It becomes exactly as one passed in \"aciton\" dictionary\n",
    "2. states of all other players are updated\n",
    "3. after all of the updates happened, *.step() calculates all options for the NEXT step (for pieces it holds at hand and in swap). These options, along with rewards they will trigger, are returned."
   ]
  },
  {
   "cell_type": "markdown",
   "metadata": {},
   "source": [
    "# Import libs"
   ]
  },
  {
   "cell_type": "markdown",
   "metadata": {},
   "source": [
    "**setup autoreload**"
   ]
  },
  {
   "cell_type": "code",
   "execution_count": 1,
   "metadata": {},
   "outputs": [],
   "source": [
    "%load_ext autoreload\n",
    "%autoreload 2"
   ]
  },
  {
   "cell_type": "markdown",
   "metadata": {},
   "source": [
    "**configure system path**"
   ]
  },
  {
   "cell_type": "code",
   "execution_count": 2,
   "metadata": {},
   "outputs": [],
   "source": [
    "import os\n",
    "import sys\n",
    "\n",
    "# list directories where packages are stored\n",
    "# note that the parent directory of te repo is added automatically\n",
    "GYM_FOLDER = \"gym-t99\"\n",
    "\n",
    "# get this notebook's current working directory\n",
    "nb_cwd = os.getcwd()\n",
    "# get name of its parent directory\n",
    "nb_parent = os.path.dirname(nb_cwd)\n",
    "# add packages to path\n",
    "sys.path.insert(len(sys.path), nb_parent)\n",
    "sys.path.insert(len(sys.path), os.path.join(nb_parent, GYM_FOLDER))"
   ]
  },
  {
   "cell_type": "markdown",
   "metadata": {},
   "source": [
    "**import custom packages**\n",
    "\n",
    "Use this code if you have not yet loaded gym_t99"
   ]
  },
  {
   "cell_type": "code",
   "execution_count": 3,
   "metadata": {},
   "outputs": [
    {
     "name": "stdout",
     "output_type": "stream",
     "text": [
      "pygame 2.0.1 (SDL 2.0.14, Python 3.8.8)\n",
      "Hello from the pygame community. https://www.pygame.org/contribute.html\n"
     ]
    }
   ],
   "source": [
    "import gym\n",
    "registered = gym.envs.registration.registry.env_specs.copy()\n",
    "\n",
    "import gym_t99\n",
    "import t_net"
   ]
  },
  {
   "cell_type": "markdown",
   "metadata": {},
   "source": [
    "**import custom packages**\n",
    "\n",
    "Use this code if you have already loaded gym_t99, but now you introduced changes and want to re-load it again"
   ]
  },
  {
   "cell_type": "code",
   "execution_count": 4,
   "metadata": {},
   "outputs": [
    {
     "name": "stdout",
     "output_type": "stream",
     "text": [
      "Remove basic-v0 from registry\n",
      "Remove t99-v0 from registry\n",
      "Remove t99sc-v0 from registry\n"
     ]
    },
    {
     "data": {
      "text/plain": [
       "<module 'gym_t99' from 'C:\\\\Users\\\\slavc\\\\Desktop\\\\UCLA\\\\Courses\\\\Spring_2021\\\\239AS\\\\239AS_T99_RL_Agent\\\\gym-t99\\\\gym_t99\\\\__init__.py'>"
      ]
     },
     "execution_count": 4,
     "metadata": {},
     "output_type": "execute_result"
    }
   ],
   "source": [
    "import imp\n",
    "\n",
    "# this code removes environment from gym's registry\n",
    "env_dict = gym.envs.registration.registry.env_specs.copy()\n",
    "for env in env_dict:\n",
    "    if env not in registered:\n",
    "        print(\"Remove {} from registry\".format(env))\n",
    "        del gym.envs.registration.registry.env_specs[env]\n",
    "\n",
    "imp.reload(gym_t99)"
   ]
  },
  {
   "cell_type": "code",
   "execution_count": 37,
   "metadata": {},
   "outputs": [
    {
     "data": {
      "text/plain": [
       "<module 't_net' from 'C:\\\\Users\\\\slavc\\\\Desktop\\\\UCLA\\\\Courses\\\\Spring_2021\\\\239AS\\\\239AS_T99_RL_Agent\\\\t_net\\\\__init__.py'>"
      ]
     },
     "execution_count": 37,
     "metadata": {},
     "output_type": "execute_result"
    }
   ],
   "source": [
    "import imp\n",
    "imp.reload(t_net)"
   ]
  },
  {
   "cell_type": "markdown",
   "metadata": {},
   "source": [
    "**import out-of-the-box packages**"
   ]
  },
  {
   "cell_type": "code",
   "execution_count": 4,
   "metadata": {},
   "outputs": [
    {
     "name": "stdout",
     "output_type": "stream",
     "text": [
      "cpu\n"
     ]
    }
   ],
   "source": [
    "# import matplotlib\n",
    "import matplotlib.pyplot as plt\n",
    "# configure matplotlib\n",
    "%matplotlib inline\n",
    "\n",
    "import numpy as np\n",
    "from copy import deepcopy\n",
    "\n",
    "# import torch\n",
    "import torch\n",
    "from torch import nn\n",
    "\n",
    "# configure torch\n",
    "device = torch.device(\"cuda\" if torch.cuda.is_available() else \"cpu\")\n",
    "print(device)"
   ]
  },
  {
   "cell_type": "markdown",
   "metadata": {},
   "source": [
    "# Testground"
   ]
  },
  {
   "cell_type": "code",
   "execution_count": 5,
   "metadata": {},
   "outputs": [],
   "source": [
    "custom_gym = gym.make('gym_t99:t99sc-v0', num_players = 1, enemy=None)"
   ]
  },
  {
   "cell_type": "code",
   "execution_count": 9,
   "metadata": {},
   "outputs": [],
   "source": [
    "custom_gym.reset()"
   ]
  },
  {
   "cell_type": "code",
   "execution_count": 28,
   "metadata": {},
   "outputs": [
    {
     "name": "stdout",
     "output_type": "stream",
     "text": [
      "[[10 10 10  0  0  0  0  0  0  0  0  0  0 10 10 10]\n",
      " [10 10 10  0  0  6  0  0  0  0  0  0  0 10 10 10]\n",
      " [10 10 10  0  0  6  6  0  0  0  0  0  0 10 10 10]\n",
      " [10 10 10  0  0  0  6  0  0  0  0  0  0 10 10 10]\n",
      " [10 10 10  0  0  0  0  0  0  0  0  0  0 10 10 10]\n",
      " [10 10 10  0  0  0  0  0  0  0  0  0  0 10 10 10]\n",
      " [10 10 10  0  0  0  0  0  0  0  0  0  0 10 10 10]\n",
      " [10 10 10  0  0  0  0  0  0  0  0  0  0 10 10 10]\n",
      " [10 10 10  0  0  0  0  0  0  0  0  0  0 10 10 10]\n",
      " [10 10 10  0  0  0  0  0  0  0  0  0  0 10 10 10]\n",
      " [10 10 10  0  0  0  0  0  0  0  0  0  0 10 10 10]\n",
      " [10 10 10  0  0  0  0  0  0  0  0  0  0 10 10 10]\n",
      " [10 10 10  0  0  0  0  0  0  0  0  0  0 10 10 10]\n",
      " [10 10 10  0  0  0  0  0  0  0  0  0  0 10 10 10]\n",
      " [10 10 10  0  0  0  0  0  0  0  0  0  0 10 10 10]\n",
      " [10 10 10  0  0  0  0  0  0  0  0  0  0 10 10 10]\n",
      " [10 10 10  0  0  0  0  0  0  0  0  0  0 10 10 10]\n",
      " [10 10 10  0  0  0  0  0  0  0  0  0  0 10 10 10]\n",
      " [10 10 10  0  0  0  0  0  0  0  0  0  0 10 10 10]\n",
      " [10 10 10  0  0  0  0  0  0  0  0  0  0 10 10 10]\n",
      " [10 10 10  0  0  0  0  0  0  0  0  0  0 10 10 10]\n",
      " [10 10 10  0  0  0  0  0  0  0  0  0  0 10 10 10]\n",
      " [10 10 10  0  2  7  7  0  0  0  0  0  0 10 10 10]\n",
      " [10 10 10  0  2  7  7  4  0  0  0  0  0 10 10 10]\n",
      " [10 10 10  2  2  0  4  4  4  0  0  0  0 10 10 10]\n",
      " [10 10 10 10 10 10 10 10 10 10 10 10 10 10 10 10]\n",
      " [10 10 10 10 10 10 10 10 10 10 10 10 10 10 10 10]\n",
      " [10 10 10 10 10 10 10 10 10 10 10 10 10 10 10 10]]\n"
     ]
    }
   ],
   "source": [
    "frame = custom_gym.render(mode=\"debug\")\n",
    "# frame[0][-4, 2:6] = 1\n",
    "print(frame[0])"
   ]
  },
  {
   "cell_type": "markdown",
   "metadata": {},
   "source": [
    "# NN training"
   ]
  },
  {
   "cell_type": "code",
   "execution_count": 6,
   "metadata": {},
   "outputs": [],
   "source": [
    "# initialize net\n",
    "my_net = t_net.ExtendedCNN()\n",
    "# initialize features\n",
    "my_features = t_net.calculate_mixed_cnn_features"
   ]
  },
  {
   "cell_type": "code",
   "execution_count": 7,
   "metadata": {},
   "outputs": [],
   "source": [
    "agent = t_net.AgentSC(env=custom_gym,\n",
    "                      discount = 0.99,\n",
    "                      net = my_net,\n",
    "                      learning_rate = 0.001,\n",
    "                      criterion = nn.MSELoss(),\n",
    "                      device=device,\n",
    "                      features = my_features)"
   ]
  },
  {
   "cell_type": "code",
   "execution_count": 12,
   "metadata": {},
   "outputs": [
    {
     "name": "stdout",
     "output_type": "stream",
     "text": [
      "calculating step 0\n",
      "policy net updated\n",
      "calculating step 1000\n",
      "calculating step 2000\n",
      "policy net updated\n",
      "calculating step 3000\n",
      "calculating step 4000\n",
      "policy net updated\n",
      "calculating step 5000\n",
      "calculating step 6000\n",
      "policy net updated\n",
      "calculating step 7000\n",
      "calculating step 8000\n",
      "policy net updated\n",
      "calculating step 9000\n",
      "calculating step 10000\n",
      "policy net updated\n",
      "calculating step 11000\n",
      "calculating step 12000\n",
      "policy net updated\n",
      "calculating step 13000\n",
      "calculating step 14000\n",
      "policy net updated\n",
      "calculating step 15000\n",
      "calculating step 16000\n",
      "policy net updated\n",
      "calculating step 17000\n",
      "calculating step 18000\n",
      "policy net updated\n",
      "calculating step 19000\n",
      "calculating step 20000\n",
      "policy net updated\n",
      "calculating step 21000\n",
      "calculating step 22000\n",
      "policy net updated\n",
      "calculating step 23000\n",
      "calculating step 24000\n",
      "policy net updated\n",
      "calculating step 25000\n",
      "calculating step 26000\n",
      "policy net updated\n",
      "calculating step 27000\n",
      "calculating step 28000\n",
      "policy net updated\n",
      "calculating step 29000\n",
      "calculating step 30000\n",
      "policy net updated\n",
      "calculating step 31000\n",
      "calculating step 32000\n",
      "policy net updated\n",
      "calculating step 33000\n",
      "calculating step 34000\n",
      "policy net updated\n",
      "calculating step 35000\n",
      "calculating step 36000\n",
      "policy net updated\n",
      "calculating step 37000\n",
      "calculating step 38000\n",
      "policy net updated\n",
      "calculating step 39000\n",
      "calculating step 40000\n",
      "policy net updated\n",
      "calculating step 41000\n",
      "calculating step 42000\n",
      "policy net updated\n",
      "calculating step 43000\n",
      "calculating step 44000\n",
      "policy net updated\n",
      "calculating step 45000\n",
      "calculating step 46000\n",
      "policy net updated\n",
      "calculating step 47000\n",
      "calculating step 48000\n",
      "policy net updated\n",
      "calculating step 49000\n",
      "calculating step 50000\n",
      "policy net updated\n",
      "calculating step 51000\n",
      "calculating step 52000\n",
      "policy net updated\n",
      "calculating step 53000\n",
      "calculating step 54000\n",
      "policy net updated\n",
      "calculating step 55000\n",
      "calculating step 56000\n",
      "policy net updated\n",
      "calculating step 57000\n",
      "calculating step 58000\n",
      "policy net updated\n",
      "calculating step 59000\n",
      "calculating step 60000\n",
      "policy net updated\n",
      "calculating step 61000\n",
      "calculating step 62000\n",
      "policy net updated\n",
      "calculating step 63000\n",
      "calculating step 64000\n",
      "policy net updated\n",
      "calculating step 65000\n",
      "calculating step 66000\n",
      "policy net updated\n",
      "calculating step 67000\n",
      "calculating step 68000\n",
      "policy net updated\n",
      "calculating step 69000\n",
      "calculating step 70000\n",
      "policy net updated\n",
      "calculating step 71000\n",
      "calculating step 72000\n",
      "policy net updated\n",
      "calculating step 73000\n",
      "calculating step 74000\n",
      "policy net updated\n",
      "calculating step 75000\n",
      "calculating step 76000\n",
      "policy net updated\n",
      "calculating step 77000\n",
      "calculating step 78000\n",
      "policy net updated\n",
      "calculating step 79000\n",
      "calculating step 80000\n",
      "policy net updated\n",
      "calculating step 81000\n",
      "calculating step 82000\n",
      "policy net updated\n",
      "calculating step 83000\n",
      "calculating step 84000\n",
      "policy net updated\n",
      "calculating step 85000\n",
      "calculating step 86000\n",
      "policy net updated\n",
      "calculating step 87000\n",
      "calculating step 88000\n",
      "policy net updated\n",
      "calculating step 89000\n",
      "calculating step 90000\n",
      "policy net updated\n",
      "calculating step 91000\n",
      "calculating step 92000\n",
      "policy net updated\n",
      "calculating step 93000\n",
      "calculating step 94000\n",
      "policy net updated\n",
      "calculating step 95000\n",
      "calculating step 96000\n",
      "policy net updated\n",
      "calculating step 97000\n",
      "calculating step 98000\n",
      "policy net updated\n",
      "calculating step 99000\n",
      "calculating step 100000\n",
      "policy net updated\n",
      "calculating step 101000\n",
      "calculating step 102000\n",
      "policy net updated\n",
      "calculating step 103000\n",
      "calculating step 104000\n",
      "policy net updated\n",
      "calculating step 105000\n",
      "calculating step 106000\n",
      "policy net updated\n",
      "calculating step 107000\n",
      "calculating step 108000\n",
      "policy net updated\n",
      "calculating step 109000\n",
      "calculating step 110000\n",
      "policy net updated\n",
      "calculating step 111000\n",
      "calculating step 112000\n",
      "policy net updated\n",
      "calculating step 113000\n",
      "calculating step 114000\n",
      "policy net updated\n",
      "calculating step 115000\n",
      "calculating step 116000\n",
      "policy net updated\n",
      "calculating step 117000\n",
      "calculating step 118000\n",
      "policy net updated\n",
      "calculating step 119000\n",
      "calculating step 120000\n",
      "policy net updated\n",
      "calculating step 121000\n",
      "calculating step 122000\n",
      "policy net updated\n",
      "calculating step 123000\n",
      "calculating step 124000\n",
      "policy net updated\n",
      "calculating step 125000\n",
      "calculating step 126000\n",
      "policy net updated\n",
      "calculating step 127000\n",
      "calculating step 128000\n",
      "policy net updated\n",
      "calculating step 129000\n",
      "calculating step 130000\n",
      "policy net updated\n",
      "calculating step 131000\n",
      "calculating step 132000\n",
      "policy net updated\n",
      "calculating step 133000\n",
      "calculating step 134000\n",
      "policy net updated\n",
      "calculating step 135000\n",
      "calculating step 136000\n",
      "policy net updated\n",
      "calculating step 137000\n",
      "calculating step 138000\n",
      "policy net updated\n",
      "calculating step 139000\n",
      "calculating step 140000\n",
      "policy net updated\n",
      "calculating step 141000\n",
      "calculating step 142000\n",
      "policy net updated\n",
      "calculating step 143000\n",
      "calculating step 144000\n",
      "policy net updated\n",
      "calculating step 145000\n",
      "calculating step 146000\n",
      "policy net updated\n",
      "calculating step 147000\n",
      "calculating step 148000\n",
      "policy net updated\n",
      "calculating step 149000\n"
     ]
    }
   ],
   "source": [
    "agent.train(steps=150000)"
   ]
  },
  {
   "cell_type": "code",
   "execution_count": 13,
   "metadata": {},
   "outputs": [],
   "source": [
    "r_hist = agent.cumulative_rewards\n",
    "step_hist = agent.steps_per_episode"
   ]
  },
  {
   "cell_type": "code",
   "execution_count": 14,
   "metadata": {},
   "outputs": [
    {
     "data": {
      "text/plain": [
       "Text(0, 0.5, 'Number of steps')"
      ]
     },
     "execution_count": 14,
     "metadata": {},
     "output_type": "execute_result"
    },
    {
     "data": {
      "image/png": "[encoded data removed]",
      "text/plain": [
       "<Figure size 720x360 with 2 Axes>"
      ]
     },
     "metadata": {
      "needs_background": "light"
     },
     "output_type": "display_data"
    }
   ],
   "source": [
    "episodes = np.arange(len(r_hist))\n",
    "fig, (ax1, ax2) = plt.subplots(1, 2, figsize=(10,5))\n",
    "\n",
    "fig.suptitle(\"DQN training\")\n",
    "ax1.plot(episodes, r_hist, \"-b\")\n",
    "ax1.grid()\n",
    "ax1.title.set_text(\"Reward history\")\n",
    "ax1.set_xlabel('Episode')\n",
    "ax1.set_ylabel('Reward')\n",
    "ax2.plot(episodes, step_hist, \"-b\")\n",
    "ax2.grid()\n",
    "ax2.title.set_text(\"Gameplay length\")\n",
    "ax2.set_xlabel('Episode')\n",
    "ax2.set_ylabel('Number of steps')\n",
    "# plt.savefig(\"plots/cnngaamma99eps1.png\", dpi=200)"
   ]
  },
  {
   "cell_type": "code",
   "execution_count": 16,
   "metadata": {
    "scrolled": false
   },
   "outputs": [],
   "source": [
    "agent.save_state(path=\"agents/CNN_plus_clear_lines.pth\")"
   ]
  }
 ],
 "metadata": {
  "kernelspec": {
   "display_name": "venv_239AS",
   "language": "python",
   "name": "venv_239as"
  },
  "language_info": {
   "codemirror_mode": {
    "name": "ipython",
    "version": 3
   },
   "file_extension": ".py",
   "mimetype": "text/x-python",
   "name": "python",
   "nbconvert_exporter": "python",
   "pygments_lexer": "ipython3",
   "version": "3.8.8"
  },
  "varInspector": {
   "cols": {
    "lenName": 16,
    "lenType": 16,
    "lenVar": 40
   },
   "kernels_config": {
    "python": {
     "delete_cmd_postfix": "",
     "delete_cmd_prefix": "del ",
     "library": "var_list.py",
     "varRefreshCmd": "print(var_dic_list())"
    },
    "r": {
     "delete_cmd_postfix": ") ",
     "delete_cmd_prefix": "rm(",
     "library": "var_list.r",
     "varRefreshCmd": "cat(var_dic_list()) "
    }
   },
   "types_to_exclude": [
    "module",
    "function",
    "builtin_function_or_method",
    "instance",
    "_Feature"
   ],
   "window_display": false
  }
 },
 "nbformat": 4,
 "nbformat_minor": 2
}
